{
  "nbformat": 4,
  "nbformat_minor": 0,
  "metadata": {
    "colab": {
      "provenance": []
    },
    "kernelspec": {
      "name": "python3",
      "display_name": "Python 3"
    },
    "language_info": {
      "name": "python"
    }
  },
  "cells": [
    {
      "cell_type": "code",
      "execution_count": null,
      "metadata": {
        "colab": {
          "base_uri": "https://localhost:8080/"
        },
        "id": "PSOMt5WY1OuA",
        "outputId": "15132ea1-4155-4aa0-b230-922fee52c1dc"
      },
      "outputs": [
        {
          "output_type": "stream",
          "name": "stdout",
          "text": [
            "Shortest Path:  [(0, 0), (1, 0), (2, 0), (3, 0), (3, 1), (3, 2), (3, 3)]\n"
          ]
        }
      ],
      "source": [
        "from collections import deque\n",
        "\n",
        "def find_shortest_path(matrix):\n",
        "  #Directions: Up,Down,Left,Right\n",
        "  directions=[(-1,0),(1,0),(0,-1),(0,1)]\n",
        "  start=(0,0)\n",
        "  end=(3,3)\n",
        "  queue=deque([(start,[start])])\n",
        "\n",
        "  visited=set()\n",
        "\n",
        "  visited.add(start)\n",
        "  while queue:\n",
        "    (x,y),path=queue.popleft()\n",
        "\n",
        "    if(x,y)==end:\n",
        "      return path\n",
        "    for dx,dy in directions:\n",
        "      nx,ny= x+ dx,y +dy\n",
        "      if 0<= nx < len(matrix) and 0<=ny < len(matrix[0]) and (nx,ny) not in visited:\n",
        "        queue.append(((nx,ny),path + [(nx,ny)]))\n",
        "        visited.add((nx,ny))\n",
        "\n",
        "  return None\n",
        "\n",
        "\n",
        "matrix=[[0,0,0,0,0],\n",
        "        [0,0,0,0,0],\n",
        "        [0,0,1,1,0],\n",
        "        [0,0,0,0,0],\n",
        "        [0,0,0,0,0]]\n",
        "\n",
        "path= find_shortest_path(matrix)\n",
        "if path:\n",
        "  print(\"Shortest Path: \",path)\n",
        "\n",
        "\n",
        "\n",
        "\n"
      ]
    },
    {
      "cell_type": "code",
      "source": [
        "import time\n",
        "\n",
        "def convert_to_tuple(state):\n",
        "    return tuple(state)\n",
        "\n",
        "def generate_moves(state):\n",
        "    possible_moves = []\n",
        "    empty_index = state.index('0')\n",
        "    row, col = divmod(empty_index, 3)\n",
        "    directions = {\"Up\": (-1, 0), \"Down\": (1, 0), \"Left\": (0, -1), \"Right\": (0, 1)}\n",
        "\n",
        "    for move, (dr, dc) in directions.items():\n",
        "        new_row, new_col = row + dr, col + dc\n",
        "        if 0 <= new_row < 3 and 0 <= new_col < 3:\n",
        "            new_index = new_row * 3 + new_col\n",
        "            new_state = list(state)\n",
        "            new_state[empty_index], new_state[new_index] = new_state[new_index], new_state[empty_index]\n",
        "            possible_moves.append((tuple(new_state), move))\n",
        "\n",
        "    return possible_moves\n",
        "\n",
        "def depth_first_search(initial_state, target_state):\n",
        "    stack = [(initial_state, [])]\n",
        "    visited = set()\n",
        "\n",
        "    while stack:\n",
        "        current_state, path = stack.pop()\n",
        "        if current_state == target_state:\n",
        "            return path\n",
        "\n",
        "        if current_state not in visited:\n",
        "            visited.add(current_state)\n",
        "            for next_state, move in generate_moves(current_state):\n",
        "                stack.append((next_state, path + [next_state]))\n",
        "\n",
        "    return None\n",
        "\n",
        "def main():\n",
        "    start = input(\"Enter initial state: \").replace(\" \", \"\")\n",
        "    goal = input(\"Enter goal state: \").replace(\" \", \"\")\n",
        "\n",
        "    initial_state = convert_to_tuple(start)\n",
        "    target_state = convert_to_tuple(goal)\n",
        "\n",
        "    print(\"-------------------\")\n",
        "    print(\"Running DFS Algorithm\")\n",
        "    print(\"-------------------\")\n",
        "\n",
        "    start_time = time.time()\n",
        "    solution = depth_first_search(initial_state, target_state)\n",
        "    end_time = time.time()\n",
        "\n",
        "    if solution:\n",
        "        print(\"Execution Time:\", round(end_time - start_time, 6), \"seconds\")\n",
        "        print(\"Path Length:\", len(solution))\n",
        "        print(\"Nodes Explored:\", len(solution) + 1)\n",
        "\n",
        "        for state in solution:\n",
        "            for i in range(0, 9, 3):\n",
        "                print(\" \".join(state[i:i+3]))\n",
        "            print(\"-----\")\n",
        "    else:\n",
        "        print(\"No solution found.\")\n",
        "\n",
        "if __name__ == \"__main__\":\n",
        "    main()\n"
      ],
      "metadata": {
        "colab": {
          "base_uri": "https://localhost:8080/"
        },
        "id": "2TxC43cO-NCX",
        "outputId": "481e616b-ed99-4e7d-bac7-db5c63220e4d"
      },
      "execution_count": 1,
      "outputs": [
        {
          "output_type": "stream",
          "name": "stdout",
          "text": [
            "Enter initial state: 1 2 3 4 5 6 7 0 8\n",
            "Enter goal state: 1 2 3 4 5 6 7 8 0\n",
            "-------------------\n",
            "Running DFS Algorithm\n",
            "-------------------\n",
            "Execution Time: 2.7e-05 seconds\n",
            "Path Length: 1\n",
            "Nodes Explored: 2\n",
            "1 2 3\n",
            "4 5 6\n",
            "7 8 0\n",
            "-----\n"
          ]
        }
      ]
    },
    {
      "cell_type": "code",
      "source": [
        "from collections import deque\n",
        "import heapq\n",
        "\n",
        "class Graph:\n",
        "    def __init__(self, adjacency_list):\n",
        "        \"\"\"Initializes the graph with an adjacency list.\"\"\"\n",
        "        self.adjacency_list = adjacency_list\n",
        "\n",
        "    def get_neighbors(self, v):\n",
        "        \"\"\"Returns the neighbors of a given node.\"\"\"\n",
        "        return self.adjacency_list.get(v, [])\n",
        "\n",
        "    def h(self, n):\n",
        "        \"\"\"Heuristic function: estimates the cost from node n to the goal.\"\"\"\n",
        "        H = {\n",
        "            \"The\": 4,\n",
        "            \"Cat\": 3,\n",
        "            \"Dog\": 3,\n",
        "            \"runs\": 2,\n",
        "            \"fast\": 1\n",
        "        }\n",
        "        return H.get(n, float('inf'))\n",
        "\n",
        "    def a_star_algorithm(self, start_node, stop_node):\n",
        "        \"\"\"Implements the A* search algorithm to find the optimal path.\"\"\"\n",
        "        open_list = []\n",
        "        heapq.heappush(open_list, (0 + self.h(start_node), 0, start_node, [start_node]))\n",
        "        closed_list = set()\n",
        "\n",
        "        while open_list:\n",
        "            _, g, current_node, path = heapq.heappop(open_list)\n",
        "\n",
        "            if current_node == stop_node:\n",
        "                print(\"Sentence:\", \" \".join(path))\n",
        "                print(\"Total cost:\", g)\n",
        "                return path, g\n",
        "\n",
        "            if current_node in closed_list:\n",
        "                continue\n",
        "\n",
        "            closed_list.add(current_node)\n",
        "\n",
        "            for neighbor, cost in self.get_neighbors(current_node):\n",
        "                if neighbor not in closed_list:\n",
        "                    heapq.heappush(open_list, (g + cost + self.h(neighbor), g + cost, neighbor, path + [neighbor]))\n",
        "\n",
        "        print(\"Path does not exist!\")\n",
        "        return None\n",
        "\n",
        "# Define the graph given in adjacency list\n",
        "adjacency_list = {\n",
        "    \"The\": [(\"Cat\", 7), (\"Dog\", 5)],\n",
        "    \"Cat\": [(\"runs\", 1)],\n",
        "    \"Dog\": [(\"runs\", 2)],\n",
        "    \"runs\": [(\"fast\", 2)],\n",
        "    \"fast\": []\n",
        "}\n",
        "\n",
        "graph1 = Graph(adjacency_list)\n",
        "graph1.a_star_algorithm(\"The\", \"fast\")\n"
      ],
      "metadata": {
        "id": "lozt4xUQL3kK",
        "colab": {
          "base_uri": "https://localhost:8080/"
        },
        "outputId": "83c59a56-be01-47ee-ccc2-24c0cb46eb2a"
      },
      "execution_count": 3,
      "outputs": [
        {
          "output_type": "stream",
          "name": "stdout",
          "text": [
            "Sentence: The Dog runs fast\n",
            "Total cost: 9\n"
          ]
        },
        {
          "output_type": "execute_result",
          "data": {
            "text/plain": [
              "(['The', 'Dog', 'runs', 'fast'], 9)"
            ]
          },
          "metadata": {},
          "execution_count": 3
        }
      ]
    }
  ]
}